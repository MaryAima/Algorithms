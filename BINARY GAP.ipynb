{
 "cells": [
  {
   "cell_type": "code",
   "execution_count": 35,
   "id": "aeb6409b",
   "metadata": {},
   "outputs": [
    {
     "name": "stdout",
     "output_type": "stream",
     "text": [
      "The result of the first test for the number 5 is 1\n",
      "The result of the second test for the number 5 is 1\n"
     ]
    }
   ],
   "source": [
    "def binary_gap(number):\n",
    "    '''This is any maximum sequence of consecutive zeroes that has ones(1) at both ends of the sequence.\n",
    "    \n",
    "       The genral sequence has to be a binary representation of the given number\n",
    "       \n",
    "       For example: the given number is 5, \n",
    "                    binary of 5 = '101',\n",
    "                    so the binary gap of this number is 1,\n",
    "                    since there the maximum number of zeros guided by ones in the binary representation is one\n",
    "       Parameter: just one intake (an integer)\n",
    "       Return: returns the maximum consecutive sequence of zeroes in the binary representation\n",
    "    '''\n",
    "    #making sure the given parameter is an integer\n",
    "    if type(number)!= int:\n",
    "        print('parameter must be an integer')\n",
    "    else:\n",
    "        length_list =[]\n",
    "        \n",
    "        # the function bin returns the binary representation of the given number\n",
    "        #takes everything except the first two enteries of the binary representation\n",
    "        #splits it where ever there is a '1'\n",
    "        # assign it to a variable called binary_list\n",
    "        binary_list = (bin(number)[2:]).split('1')\n",
    "        \n",
    "        for num in binary_list:\n",
    "            #getting the length of each element in the binary_list\n",
    "            num_length = len(num)\n",
    "            #appending num_length to the empty list above\n",
    "            length_list.append(num_length)\n",
    "        #returns the maximum of the length_list\n",
    "        return max(length_list)\n",
    "    \n",
    "#testing the binary gap function\n",
    "print('The result of the first test for the number 5 is',binary_gap(5))\n",
    "\n",
    "\n",
    "#we can make the above function even shorter using a list comprehension\n",
    "def binary_gap_list_comp(number):\n",
    "    length_list =[len(num) for num in ((bin(number)[2:]).split('1'))]\n",
    "    return max(length_list)\n",
    "\n",
    "#testing the list comprehension method \n",
    "print('The result of the second test for the number 5 is',binary_gap_list_comp(5))"
   ]
  },
  {
   "cell_type": "code",
   "execution_count": null,
   "id": "908a860b",
   "metadata": {},
   "outputs": [],
   "source": []
  }
 ],
 "metadata": {
  "kernelspec": {
   "display_name": "Python 3",
   "language": "python",
   "name": "python3"
  },
  "language_info": {
   "codemirror_mode": {
    "name": "ipython",
    "version": 3
   },
   "file_extension": ".py",
   "mimetype": "text/x-python",
   "name": "python",
   "nbconvert_exporter": "python",
   "pygments_lexer": "ipython3",
   "version": "3.8.8"
  }
 },
 "nbformat": 4,
 "nbformat_minor": 5
}
