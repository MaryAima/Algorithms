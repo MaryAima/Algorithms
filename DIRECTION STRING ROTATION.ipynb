{
 "cells": [
  {
   "cell_type": "code",
   "execution_count": 1,
   "id": "3449c14a",
   "metadata": {},
   "outputs": [
    {
     "data": {
      "text/plain": [
       "2"
      ]
     },
     "execution_count": 1,
     "metadata": {},
     "output_type": "execute_result"
    }
   ],
   "source": [
    "def rotate(S):\n",
    "    ''' \n",
    "       Parameter: String of directions (v, >, < or ^)\n",
    "      \n",
    "       Return: Minimum number of times you can switch each direction in the string before they all face the same direction\n",
    "       \n",
    "       For example: given the parameter '><<>>'\n",
    "                    The minimum number of times to turn each direction for them to all face the same direction is 2\n",
    "                    turning the directions (<<), which is two(2) \n",
    "    '''\n",
    "    #the only elements that the string recognises\n",
    "    strings = '^v><'\n",
    "    \n",
    "    #setting each element in the string to a new variable (up,down,right,left)\n",
    "    up = strings[0]\n",
    "    down = strings[1]\n",
    "    right = strings[2]\n",
    "    left = strings[3]\n",
    "    \n",
    "    #they can also be like this\n",
    "    #     up = '^'\n",
    "    #     down = 'v'\n",
    "    #     right = '>'\n",
    "    #     left = '<'\n",
    "    \n",
    "    #creating an empty list that will hold the number of times each direction appears in the given parameter\n",
    "    up_arrow =[]\n",
    "    down_arrow =[]\n",
    "    right_arrow = []\n",
    "    left_arrow =[]\n",
    "    \n",
    "    #loopinf through the given parameter and setting the condition to append each direction to its respective empty list\n",
    "    for arrow in S:\n",
    "        if arrow == up:\n",
    "            up_arrow.append(arrow)\n",
    "        elif arrow == down:\n",
    "            down_arrow.append(arrow)\n",
    "        elif arrow == right:\n",
    "            right_arrow.append(arrow)\n",
    "        else:\n",
    "            left_arrow.append(left)\n",
    "            \n",
    "    #getting the length of each list       \n",
    "    len_up = len(up_arrow)\n",
    "    len_down = len(down_arrow)\n",
    "    len_right = len(right_arrow)\n",
    "    len_left = len(left_arrow)\n",
    "    \n",
    "    #putting each length in a new list to get the direction that occurred the most\n",
    "    newlist = [len(up_arrow),len(down_arrow),len(right_arrow),len(left_arrow)]\n",
    "    \n",
    "    #subtracting the maximum from the length of the given parameter\n",
    "    #to know the least number of time to flip the directions\n",
    "    #returns that number\n",
    "    number = len(S) - max(newlist)\n",
    "    return number\n",
    "\n",
    "#Testing the function above\n",
    "rotate('><<>>')"
   ]
  },
  {
   "cell_type": "code",
   "execution_count": null,
   "id": "373f1534",
   "metadata": {},
   "outputs": [],
   "source": []
  }
 ],
 "metadata": {
  "kernelspec": {
   "display_name": "Python 3",
   "language": "python",
   "name": "python3"
  },
  "language_info": {
   "codemirror_mode": {
    "name": "ipython",
    "version": 3
   },
   "file_extension": ".py",
   "mimetype": "text/x-python",
   "name": "python",
   "nbconvert_exporter": "python",
   "pygments_lexer": "ipython3",
   "version": "3.8.8"
  }
 },
 "nbformat": 4,
 "nbformat_minor": 5
}
